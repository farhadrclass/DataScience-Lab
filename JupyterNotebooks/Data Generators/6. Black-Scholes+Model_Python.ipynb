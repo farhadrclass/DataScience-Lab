{
 "cells": [
  {
   "cell_type": "code",
   "execution_count": 19,
   "metadata": {
    "collapsed": true
   },
   "outputs": [],
   "source": [
    "import datetime\n",
    "import numpy as np\n",
    "import matplotlib.pyplot as plt\n",
    "import matplotlib.dates as mdates\n",
    "import matplotlib.cbook as cbook\n",
    "import math\n",
    "import random\n",
    "from matplotlib import pyplot as plt\n",
    "import numpy as np\n",
    "import matplotlib\n",
    "from scipy.stats import norm\n"
   ]
  },
  {
   "cell_type": "code",
   "execution_count": 20,
   "metadata": {},
   "outputs": [],
   "source": [
    "# print(norm.cdf(1.96))\n",
    "#math.log(x)"
   ]
  },
  {
   "cell_type": "code",
   "execution_count": 67,
   "metadata": {
    "collapsed": true
   },
   "outputs": [],
   "source": [
    "Asset=100            #c5\n",
    "volatility=0.2       #c6\n",
    "Drift=0.12           #c7\n",
    "Interest=0.05#rate   #c8\n",
    "Strike=100          #c10\n",
    "Expiry=1             #c11\n",
    "TimeStep=0.01       #h5\n",
    "n=100 #number of sample generated \n",
    "\n",
    "K=100  #run the sim K times"
   ]
  },
  {
   "cell_type": "code",
   "execution_count": 68,
   "metadata": {},
   "outputs": [],
   "source": [
    "TimeArr=[]\n",
    "TimeArr.append(0)\n",
    "\n",
    "AssetArr=[]\n",
    "AssetArr.append(Asset)\n",
    "\n",
    "dummy1=(math.log(AssetArr[0]/Strike)+(Interest+0.5*volatility*volatility)*(Expiry-TimeArr[0]))/(volatility*math.sqrt(abs(Expiry-TimeArr[0])))\n",
    "d1=[]\n",
    "d1.append(dummy1)\n",
    "\n",
    "dummy2=d1[0]-(volatility*math.sqrt(abs(Expiry-TimeArr[0])))\n",
    "d2=[]\n",
    "d2.append(dummy2)\n",
    "\n",
    "\n",
    "dummy3=AssetArr[0]*norm.cdf(d1[0])-Strike*math.exp((-Interest)*(Expiry-TimeArr[0]))*norm.cdf(d2[0])\n",
    "options=[]\n",
    "options.append(dummy3)\n",
    "\n",
    "dummy4=norm.cdf(d1[0])\n",
    "delta=[]\n",
    "delta.append(dummy4)\n",
    "\n",
    "dummy5=0\n",
    "portfolio_neg=[]\n",
    "portfolio_neg.append(0)\n",
    "\n",
    "dummy6=options[0]-delta[0]*AssetArr[0]\n",
    "portfolio_pos=[]\n",
    "portfolio_pos.append(dummy6)\n",
    "\n",
    "dummy7=0\n",
    "HE=[]#Hedge Error\n",
    "HE.append(0)\n",
    "\n",
    "dummy8=0\n",
    "CF=[] #Cash flow\n",
    "CF.append(0)\n",
    "\n",
    "dummy9=-(0-delta[0]*AssetArr[0])-options[0]\n",
    "bal=[] #Balance\n",
    "bal.append(dummy9)\n",
    "\n",
    "\n",
    "dummy10=0\n",
    "NP=[] #NetProfit\n",
    "NP.append(0)"
   ]
  },
  {
   "cell_type": "code",
   "execution_count": 69,
   "metadata": {},
   "outputs": [
    {
     "name": "stdout",
     "output_type": "stream",
     "text": [
      "-1.111169482424657\n"
     ]
    }
   ],
   "source": [
    "#instead of accessing the array eerytime for the ith element, we could just use the dummy1-9 to speed up the proccess \n",
    "for j in range(1,K):\n",
    "    for i in range(1,n):\n",
    "        TimeArr.append(TimeArr[i-1]+TimeStep)\n",
    "\n",
    "        dummy0=AssetArr[i-1]*(1+Drift*TimeStep+volatility*math.sqrt(TimeStep)*(random.uniform(0, 1)+random.uniform(0, 1)+random.uniform(0, 1)+random.uniform(0, 1)+random.uniform(0, 1)+random.uniform(0, 1)+random.uniform(0, 1)+random.uniform(0, 1)+random.uniform(0, 1)+random.uniform(0, 1)+random.uniform(0, 1)+random.uniform(0, 1)-6))\n",
    "        AssetArr.append(dummy0)\n",
    "\n",
    "        dummy1=(math.log(AssetArr[i]/Strike)+(Interest+0.5*volatility*volatility)*(Expiry-TimeArr[i]))/(volatility*math.sqrt(abs(Expiry-TimeArr[i])))\n",
    "        d1.append(dummy1)\n",
    "\n",
    "        dummy2=d1[i]-(volatility*math.sqrt(abs(Expiry-TimeArr[i])))\n",
    "        d2.append(dummy2)\n",
    "\n",
    "        dummy3=AssetArr[i]*norm.cdf(d1[i])-Strike*math.exp((-Interest)*(Expiry-TimeArr[i]))*norm.cdf(d2[i])\n",
    "        options.append(dummy3)\n",
    "\n",
    "        dummy4=norm.cdf(d1[i])\n",
    "        delta.append(dummy4)\n",
    "\n",
    "        dummy5=options[i]-delta[i-1]*AssetArr[i]\n",
    "        portfolio_neg.append(dummy5)\n",
    "\n",
    "        dummy6=options[i]-delta[i]*AssetArr[i]\n",
    "        portfolio_pos.append(dummy6)\n",
    "\n",
    "        dummy7=portfolio_pos[i-1]*math.exp(Interest*(TimeStep))-portfolio_neg[i]\n",
    "        HE.append(dummy7)\n",
    "\n",
    "        dummy8=(delta[i]-delta[i-1])*AssetArr[i]\n",
    "        CF.append(dummy8)\n",
    "\n",
    "        dummy9=bal[i-1]*math.exp(Interest*(TimeStep))+CF[i] \n",
    "        bal.append(dummy9)\n",
    "\n",
    "\n",
    "        dummy10=bal[i]+(options[i]-delta[i]*AssetArr[i])\n",
    "        NP.append(dummy10)\n",
    "\n",
    "        # print(NP)\n",
    "        Total=bal[i]+options[i]-delta[i]*AssetArr[i]\n",
    "print(Total)"
   ]
  },
  {
   "cell_type": "code",
   "execution_count": 71,
   "metadata": {},
   "outputs": [
    {
     "name": "stdout",
     "output_type": "stream",
     "text": [
      "-1.111169482424657\n"
     ]
    },
    {
     "data": {
      "image/png": "[encoded data removed]",
      "text/plain": [
       "<matplotlib.figure.Figure at 0x1d1ae198c88>"
      ]
     },
     "metadata": {},
     "output_type": "display_data"
    }
   ],
   "source": [
    "x = TimeArr\n",
    "y = NP\n",
    "print(Total)\n",
    "\n",
    "\n",
    "plt.scatter(x, y,alpha=0.5)\n",
    "# plt.plot(x, y)\n",
    "plt.xlabel(\"Time\")\n",
    "plt.ylabel(\"Asset\")\n",
    "plt.legend(loc=2)\n",
    "plt.show()"
   ]
  },
  {
   "cell_type": "code",
   "execution_count": null,
   "metadata": {
    "collapsed": true
   },
   "outputs": [],
   "source": []
  },
  {
   "cell_type": "code",
   "execution_count": null,
   "metadata": {},
   "outputs": [],
   "source": []
  },
  {
   "cell_type": "markdown",
   "metadata": {},
   "source": []
  }
 ],
 "metadata": {
  "kernelspec": {
   "display_name": "Python 3",
   "language": "python",
   "name": "python3"
  },
  "language_info": {
   "codemirror_mode": {
    "name": "ipython",
    "version": 3
   },
   "file_extension": ".py",
   "mimetype": "text/x-python",
   "name": "python",
   "nbconvert_exporter": "python",
   "pygments_lexer": "ipython3",
   "version": "3.6.3"
  }
 },
 "nbformat": 4,
 "nbformat_minor": 2
}
