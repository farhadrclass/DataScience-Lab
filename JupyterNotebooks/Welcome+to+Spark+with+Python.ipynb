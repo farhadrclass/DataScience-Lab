{
 "cells": [
  {
   "cell_type": "markdown",
   "metadata": {
    "collapsed": true
   },
   "source": [
    "![Spark Logo](http://spark-mooc.github.io/web-assets/images/ta_Spark-logo-small.png)\n",
    "![Python Logo](http://spark-mooc.github.io/web-assets/images/python-logo-master-v3-TM-flattened_small.png)\n",
    "\n",
    "# Welcome to Apache Spark with Python\n",
    "\n",
    "> Apache Spark is a fast and general-purpose cluster computing system. It provides high-level APIs in Java, Scala, Python and R, and an optimized engine that supports general execution graphs. It also supports a rich set of higher-level tools including Spark SQL for SQL and structured data processing, MLlib for machine learning, GraphX for graph processing, and Spark Streaming. \n",
    "- http://spark.apache.org/\n",
    "\n",
    "In this notebook, we'll train two classifiers to predict survivors in the [Titanic dataset](../edit/datasets/COUNT/titanic.csv). We'll use this classic machine learning problem as a brief introduction to using Apache Spark local mode in a notebook."
   ]
  },
  {
   "cell_type": "code",
   "execution_count": 1,
   "metadata": {},
   "outputs": [
    {
     "name": "stdout",
     "output_type": "stream",
     "text": [
      "HOSTNAME=dev-cdm-spark02.nexjqa.local\r\n",
      "SPARK_HOME=/usr/local/spark\r\n",
      "TERM=xterm-color\r\n",
      "SHELL=/bin/bash\r\n",
      "CLICOLOR=1\r\n",
      "HISTSIZE=1000\r\n",
      "USER=administrator\r\n",
      "LS_COLORS=rs=0:di=01;34:ln=01;36:mh=00:pi=40;33:so=01;35:do=01;35:bd=40;33;01:cd=40;33;01:or=40;31;01:mi=01;05;37;41:su=37;41:sg=30;43:ca=30;41:tw=30;42:ow=34;42:st=37;44:ex=01;32:*.tar=01;31:*.tgz=01;31:*.arc=01;31:*.arj=01;31:*.taz=01;31:*.lha=01;31:*.lz4=01;31:*.lzh=01;31:*.lzma=01;31:*.tlz=01;31:*.txz=01;31:*.tzo=01;31:*.t7z=01;31:*.zip=01;31:*.z=01;31:*.Z=01;31:*.dz=01;31:*.gz=01;31:*.lrz=01;31:*.lz=01;31:*.lzo=01;31:*.xz=01;31:*.bz2=01;31:*.bz=01;31:*.tbz=01;31:*.tbz2=01;31:*.tz=01;31:*.deb=01;31:*.rpm=01;31:*.jar=01;31:*.war=01;31:*.ear=01;31:*.sar=01;31:*.rar=01;31:*.alz=01;31:*.ace=01;31:*.zoo=01;31:*.cpio=01;31:*.7z=01;31:*.rz=01;31:*.cab=01;31:*.jpg=01;35:*.jpeg=01;35:*.gif=01;35:*.bmp=01;35:*.pbm=01;35:*.pgm=01;35:*.ppm=01;35:*.tga=01;35:*.xbm=01;35:*.xpm=01;35:*.tif=01;35:*.tiff=01;35:*.png=01;35:*.svg=01;35:*.svgz=01;35:*.mng=01;35:*.pcx=01;35:*.mov=01;35:*.mpg=01;35:*.mpeg=01;35:*.m2v=01;35:*.mkv=01;35:*.webm=01;35:*.ogm=01;35:*.mp4=01;35:*.m4v=01;35:*.mp4v=01;35:*.vob=01;35:*.qt=01;35:*.nuv=01;35:*.wmv=01;35:*.asf=01;35:*.rm=01;35:*.rmvb=01;35:*.flc=01;35:*.avi=01;35:*.fli=01;35:*.flv=01;35:*.gl=01;35:*.dl=01;35:*.xcf=01;35:*.xwd=01;35:*.yuv=01;35:*.cgm=01;35:*.emf=01;35:*.axv=01;35:*.anx=01;35:*.ogv=01;35:*.ogx=01;35:*.aac=01;36:*.au=01;36:*.flac=01;36:*.mid=01;36:*.midi=01;36:*.mka=01;36:*.mp3=01;36:*.mpc=01;36:*.ogg=01;36:*.ra=01;36:*.wav=01;36:*.axa=01;36:*.oga=01;36:*.spx=01;36:*.xspf=01;36:\r\n",
      "SUDO_USER=administrator\r\n",
      "SUDO_UID=1001\r\n",
      "PYSPARK_PYTHON=/usr/bin/python3\r\n",
      "PYSPARK_DRIVER_PYTHON=ipython3\r\n",
      "JPY_PARENT_PID=29512\r\n",
      "USERNAME=root\r\n",
      "IPYTHON_STARTUP=/home/administrator/.ipython/profile_default/startup/00-startup.py\r\n",
      "PAGER=cat\r\n",
      "MAIL=/var/spool/mail/administrator\r\n",
      "PATH=/sbin:/bin:/usr/sbin:/usr/bin:/usr/local/spark\r\n",
      "PWD=/usr/local/share/dsLab/jupyterHub\r\n",
      "MPLBACKEND=module://ipykernel.pylab.backend_inline\r\n",
      "LANG=en_US.UTF-8\r\n",
      "SHLVL=1\r\n",
      "SUDO_COMMAND=/bin/nohup jupyterhub --config=/usr/local/share/dsLab/jupyterhub_config.py\r\n",
      "HOME=/home/administrator\r\n",
      "IPYTHON=1\r\n",
      "LOGNAME=root\r\n",
      "PYTHONPATH=/usr/local/spark/python:/usr/local/spark/python/lib/py4j-0.9-src.zip:/usr/local/spark/python/spark-riak-connector/connector/python/dist/pyspark_riak-1.6.3-py3.4.egg\r\n",
      "SUDO_GID=1001\r\n",
      "GIT_PAGER=cat\r\n",
      "_=/bin/env\r\n"
     ]
    }
   ],
   "source": [
    "! env"
   ]
  },
  {
   "cell_type": "code",
   "execution_count": 2,
   "metadata": {
    "collapsed": true
   },
   "outputs": [],
   "source": [
    "import pyspark  \n",
    "from pyspark.mllib.regression import LabeledPoint\n",
    "from pyspark.mllib.classification import LogisticRegressionWithSGD\n",
    "from pyspark.mllib.tree import DecisionTree"
   ]
  },
  {
   "cell_type": "markdown",
   "metadata": {},
   "source": [
    "First we create a [SparkContext](http://spark.apache.org/docs/latest/api/python/pyspark.html#pyspark.SparkContext), the main object in the Spark API. This call may take a few seconds to return as it fires up a JVM under the covers."
   ]
  },
  {
   "cell_type": "code",
   "execution_count": 3,
   "metadata": {
    "collapsed": true
   },
   "outputs": [],
   "source": [
    "sc = pyspark.SparkContext()"
   ]
  },
  {
   "cell_type": "markdown",
   "metadata": {},
   "source": [
    "## Sample the data"
   ]
  },
  {
   "cell_type": "markdown",
   "metadata": {},
   "source": [
    "We point the context at a CSV file on disk. The result is a [RDD](http://spark.apache.org/docs/latest/programming-guide.html#resilient-distributed-datasets-rdds), not the content of the file. This is a Spark [transformation](http://spark.apache.org/docs/latest/programming-guide.html#transformations)."
   ]
  },
  {
   "cell_type": "code",
   "execution_count": 4,
   "metadata": {
    "collapsed": true
   },
   "outputs": [],
   "source": [
    "raw_rdd = sc.textFile(\"/usr/local/share/dsLab/datasets/titanic.csv\")"
   ]
  },
  {
   "cell_type": "markdown",
   "metadata": {},
   "source": [
    "We query RDD for the number of lines in the file. The call here causes the file to be read and the result computed. This is a Spark [action](http://spark.apache.org/docs/latest/programming-guide.html#actions)."
   ]
  },
  {
   "cell_type": "code",
   "execution_count": 5,
   "metadata": {},
   "outputs": [
    {
     "data": {
      "text/plain": [
       "1317"
      ]
     },
     "execution_count": 5,
     "metadata": {},
     "output_type": "execute_result"
    }
   ],
   "source": [
    "raw_rdd.count()"
   ]
  },
  {
   "cell_type": "markdown",
   "metadata": {},
   "source": [
    "We query for the first five rows of the RDD. Even though the data is small, we shouldn't get into the habit of pulling the entire dataset into the notebook. Many datasets that we might want to work with using Spark will be much too large to fit in memory of a single machine."
   ]
  },
  {
   "cell_type": "markdown",
   "metadata": {},
   "source": [
    "We take a random sample of the data rows to better understand the possible values."
   ]
  },
  {
   "cell_type": "code",
   "execution_count": 6,
   "metadata": {},
   "outputs": [
    {
     "data": {
      "text/plain": [
       "['\"\",\"class\",\"age\",\"sex\",\"survived\"',\n",
       " '\"1\",\"1st class\",\"adults\",\"man\",\"yes\"',\n",
       " '\"2\",\"1st class\",\"adults\",\"man\",\"yes\"',\n",
       " '\"3\",\"1st class\",\"adults\",\"man\",\"yes\"',\n",
       " '\"4\",\"1st class\",\"adults\",\"man\",\"yes\"']"
      ]
     },
     "execution_count": 6,
     "metadata": {},
     "output_type": "execute_result"
    }
   ],
   "source": [
    "raw_rdd.take(5)"
   ]
  },
  {
   "cell_type": "markdown",
   "metadata": {},
   "source": [
    "We see a header row followed by a set of data rows. We filter out the header to define a new RDD containing only the data rows."
   ]
  },
  {
   "cell_type": "code",
   "execution_count": 7,
   "metadata": {
    "collapsed": true
   },
   "outputs": [],
   "source": [
    "header = raw_rdd.first()\n",
    "data_rdd = raw_rdd.filter(lambda line: line != header)"
   ]
  },
  {
   "cell_type": "code",
   "execution_count": 8,
   "metadata": {},
   "outputs": [
    {
     "data": {
      "text/plain": [
       "['\"159\",\"1st class\",\"adults\",\"man\",\"no\"',\n",
       " '\"256\",\"1st class\",\"adults\",\"women\",\"yes\"',\n",
       " '\"1204\",\"3rd class\",\"adults\",\"women\",\"no\"',\n",
       " '\"758\",\"3rd class\",\"adults\",\"man\",\"no\"',\n",
       " '\"730\",\"3rd class\",\"adults\",\"man\",\"no\"']"
      ]
     },
     "execution_count": 8,
     "metadata": {},
     "output_type": "execute_result"
    }
   ],
   "source": [
    "data_rdd.takeSample(False, 5, 0)"
   ]
  },
  {
   "cell_type": "markdown",
   "metadata": {},
   "source": [
    "We see that the first value in every row is a passenger number. The next three values are the passenger attributes we might use to predict passenger survival: ticket class, age group, and gender. The final value is the survival ground truth."
   ]
  },
  {
   "cell_type": "markdown",
   "metadata": {},
   "source": [
    "## Create labeled points (i.e., feature vectors and ground truth)"
   ]
  },
  {
   "cell_type": "markdown",
   "metadata": {},
   "source": [
    "Now we define a function to turn the passenger attributions into structured `LabeledPoint` objects."
   ]
  },
  {
   "cell_type": "code",
   "execution_count": 9,
   "metadata": {
    "collapsed": true
   },
   "outputs": [],
   "source": [
    "def row_to_labeled_point(line):\n",
    "    '''\n",
    "    Builds a LabelPoint consisting of:\n",
    "    \n",
    "    survival (truth): 0=no, 1=yes\n",
    "    ticket class: 0=1st class, 1=2nd class, 2=3rd class\n",
    "    age group: 0=child, 1=adults\n",
    "    gender: 0=man, 1=woman\n",
    "    '''\n",
    "    passenger_id, klass, age, sex, survived = [segs.strip('\"') for segs in line.split(',')]\n",
    "    klass = int(klass[0]) - 1\n",
    "    \n",
    "    if (age not in ['adults', 'child'] or \n",
    "        sex not in ['man', 'women'] or\n",
    "        survived not in ['yes', 'no']):\n",
    "        raise RuntimeError('unknown value')\n",
    "    \n",
    "    features = [\n",
    "        klass,\n",
    "        (1 if age == 'adults' else 0),\n",
    "        (1 if sex == 'women' else 0)\n",
    "    ]\n",
    "    return LabeledPoint(1 if survived == 'yes' else 0, features)"
   ]
  },
  {
   "cell_type": "markdown",
   "metadata": {},
   "source": [
    "We apply the function to all rows."
   ]
  },
  {
   "cell_type": "code",
   "execution_count": 10,
   "metadata": {
    "collapsed": true
   },
   "outputs": [],
   "source": [
    "labeled_points_rdd = data_rdd.map(row_to_labeled_point)"
   ]
  },
  {
   "cell_type": "markdown",
   "metadata": {},
   "source": [
    "We take a random sample of the resulting points to inspect them."
   ]
  },
  {
   "cell_type": "code",
   "execution_count": 11,
   "metadata": {},
   "outputs": [
    {
     "data": {
      "text/plain": [
       "[LabeledPoint(0.0, [0.0,1.0,0.0]),\n",
       " LabeledPoint(1.0, [0.0,1.0,1.0]),\n",
       " LabeledPoint(0.0, [2.0,1.0,1.0]),\n",
       " LabeledPoint(0.0, [2.0,1.0,0.0]),\n",
       " LabeledPoint(0.0, [2.0,1.0,0.0])]"
      ]
     },
     "execution_count": 11,
     "metadata": {},
     "output_type": "execute_result"
    }
   ],
   "source": [
    "labeled_points_rdd.takeSample(False, 5, 0)"
   ]
  },
  {
   "cell_type": "markdown",
   "metadata": {},
   "source": [
    "## Split for training and test"
   ]
  },
  {
   "cell_type": "markdown",
   "metadata": {},
   "source": [
    "We split the transformed data into a training (70%) and test set (30%), and print the total number of items in each segment."
   ]
  },
  {
   "cell_type": "code",
   "execution_count": 12,
   "metadata": {
    "collapsed": true
   },
   "outputs": [],
   "source": [
    "training_rdd, test_rdd = labeled_points_rdd.randomSplit([0.7, 0.3], seed = 0)"
   ]
  },
  {
   "cell_type": "code",
   "execution_count": 13,
   "metadata": {
    "collapsed": true
   },
   "outputs": [],
   "source": [
    "training_count = training_rdd.count()\n",
    "test_count = test_rdd.count()"
   ]
  },
  {
   "cell_type": "code",
   "execution_count": 14,
   "metadata": {},
   "outputs": [
    {
     "data": {
      "text/plain": [
       "(914, 402)"
      ]
     },
     "execution_count": 14,
     "metadata": {},
     "output_type": "execute_result"
    }
   ],
   "source": [
    "training_count, test_count"
   ]
  },
  {
   "cell_type": "markdown",
   "metadata": {},
   "source": [
    "## Train and test a decision tree classifier"
   ]
  },
  {
   "cell_type": "markdown",
   "metadata": {},
   "source": [
    "Now we train a [DecisionTree](http://spark.apache.org/docs/latest/api/python/pyspark.mllib.html#pyspark.mllib.tree.DecisionTree) model. We specify that we're training a boolean classifier (i.e., there are two outcomes). We also specify that all of our features are categorical and the number of possible categories for each."
   ]
  },
  {
   "cell_type": "code",
   "execution_count": 15,
   "metadata": {
    "collapsed": true
   },
   "outputs": [],
   "source": [
    "model = DecisionTree.trainClassifier(training_rdd, \n",
    "                                     numClasses=2, \n",
    "                                     categoricalFeaturesInfo={\n",
    "                                        0: 3,\n",
    "                                        1: 2,\n",
    "                                        2: 2\n",
    "                                     })"
   ]
  },
  {
   "cell_type": "markdown",
   "metadata": {},
   "source": [
    "We now apply the trained model to the feature values in the test set to get the list of predicted outcomines."
   ]
  },
  {
   "cell_type": "code",
   "execution_count": 16,
   "metadata": {
    "collapsed": true
   },
   "outputs": [],
   "source": [
    "predictions_rdd = model.predict(test_rdd.map(lambda x: x.features))"
   ]
  },
  {
   "cell_type": "markdown",
   "metadata": {},
   "source": [
    "We bundle our predictions with the ground truth outcome for each passenger in the test set."
   ]
  },
  {
   "cell_type": "code",
   "execution_count": 17,
   "metadata": {
    "collapsed": true
   },
   "outputs": [],
   "source": [
    "truth_and_predictions_rdd = test_rdd.map(lambda lp: lp.label).zip(predictions_rdd)"
   ]
  },
  {
   "cell_type": "markdown",
   "metadata": {},
   "source": [
    "Now we compute the test error (% predicted survival outcomes == actual outcomes) and display the decision tree for good measure."
   ]
  },
  {
   "cell_type": "code",
   "execution_count": 18,
   "metadata": {},
   "outputs": [
    {
     "name": "stdout",
     "output_type": "stream",
     "text": [
      "Accuracy = 0.7985074626865671\n",
      "DecisionTreeModel classifier of depth 4 with 21 nodes\n",
      "  If (feature 2 in {0.0})\n",
      "   If (feature 1 in {0.0})\n",
      "    If (feature 0 in {0.0,1.0})\n",
      "     Predict: 1.0\n",
      "    Else (feature 0 not in {0.0,1.0})\n",
      "     Predict: 0.0\n",
      "   Else (feature 1 not in {0.0})\n",
      "    If (feature 0 in {1.0})\n",
      "     Predict: 0.0\n",
      "    Else (feature 0 not in {1.0})\n",
      "     If (feature 0 in {0.0})\n",
      "      Predict: 0.0\n",
      "     Else (feature 0 not in {0.0})\n",
      "      Predict: 0.0\n",
      "  Else (feature 2 not in {0.0})\n",
      "   If (feature 0 in {2.0})\n",
      "    If (feature 1 in {0.0})\n",
      "     Predict: 0.0\n",
      "    Else (feature 1 not in {0.0})\n",
      "     Predict: 0.0\n",
      "   Else (feature 0 not in {2.0})\n",
      "    If (feature 0 in {1.0})\n",
      "     If (feature 1 in {0.0})\n",
      "      Predict: 1.0\n",
      "     Else (feature 1 not in {0.0})\n",
      "      Predict: 1.0\n",
      "    Else (feature 0 not in {1.0})\n",
      "     If (feature 1 in {0.0})\n",
      "      Predict: 1.0\n",
      "     Else (feature 1 not in {0.0})\n",
      "      Predict: 1.0\n",
      "\n"
     ]
    }
   ],
   "source": [
    "accuracy = truth_and_predictions_rdd.filter(lambda v_p: v_p[0] == v_p[1]).count() / float(test_count)\n",
    "print('Accuracy =', accuracy)\n",
    "print(model.toDebugString())"
   ]
  },
  {
   "cell_type": "markdown",
   "metadata": {},
   "source": [
    "## Train and test a logistic regression classifier"
   ]
  },
  {
   "cell_type": "markdown",
   "metadata": {},
   "source": [
    "For a simple comparison, we also train and test a [LogisticRegressionWithSGD](http://spark.apache.org/docs/latest/api/python/pyspark.mllib.html#pyspark.mllib.classification.LogisticRegressionWithSGD) model."
   ]
  },
  {
   "cell_type": "code",
   "execution_count": 19,
   "metadata": {
    "collapsed": true
   },
   "outputs": [],
   "source": [
    "model = LogisticRegressionWithSGD.train(training_rdd)"
   ]
  },
  {
   "cell_type": "code",
   "execution_count": 20,
   "metadata": {
    "collapsed": true
   },
   "outputs": [],
   "source": [
    "predictions_rdd = model.predict(test_rdd.map(lambda x: x.features))"
   ]
  },
  {
   "cell_type": "code",
   "execution_count": 21,
   "metadata": {
    "collapsed": true
   },
   "outputs": [],
   "source": [
    "labels_and_predictions_rdd = test_rdd.map(lambda lp: lp.label).zip(predictions_rdd)"
   ]
  },
  {
   "cell_type": "code",
   "execution_count": 22,
   "metadata": {},
   "outputs": [
    {
     "name": "stdout",
     "output_type": "stream",
     "text": [
      "Accuracy = 0.7860696517412935\n"
     ]
    }
   ],
   "source": [
    "accuracy = labels_and_predictions_rdd.filter(lambda v_p: v_p[0] == v_p[1]).count() / float(test_count)\n",
    "print('Accuracy =', accuracy)"
   ]
  },
  {
   "cell_type": "markdown",
   "metadata": {},
   "source": [
    "The two classifiers show similar accuracy. More information about the passengers could definitely help improve this metric."
   ]
  }
 ],
 "metadata": {
  "kernelspec": {
   "display_name": "Python 3",
   "language": "python",
   "name": "python3"
  },
  "language_info": {
   "codemirror_mode": {
    "name": "ipython",
    "version": 3
   },
   "file_extension": ".py",
   "mimetype": "text/x-python",
   "name": "python",
   "nbconvert_exporter": "python",
   "pygments_lexer": "ipython3",
   "version": "3.4.5"
  }
 },
 "nbformat": 4,
 "nbformat_minor": 1
}
