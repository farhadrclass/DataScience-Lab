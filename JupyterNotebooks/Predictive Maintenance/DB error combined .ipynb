{
 "cells": [
  {
   "cell_type": "code",
   "execution_count": 2,
   "metadata": {},
   "outputs": [
    {
     "ename": "ModuleNotFoundError",
     "evalue": "No module named 'pymssql'",
     "output_type": "error",
     "traceback": [
      "\u001b[1;31m---------------------------------------------------------------------------\u001b[0m",
      "\u001b[1;31mModuleNotFoundError\u001b[0m                       Traceback (most recent call last)",
      "\u001b[1;32m<ipython-input-2-da6b59c2b110>\u001b[0m in \u001b[0;36m<module>\u001b[1;34m()\u001b[0m\n\u001b[0;32m      1\u001b[0m '''Conneetting to the DB \n\u001b[0;32m      2\u001b[0m '''\n\u001b[1;32m----> 3\u001b[1;33m \u001b[1;32mimport\u001b[0m \u001b[0mpymssql\u001b[0m\u001b[1;33m\u001b[0m\u001b[0m\n\u001b[0m\u001b[0;32m      4\u001b[0m \u001b[1;33m\u001b[0m\u001b[0m\n\u001b[0;32m      5\u001b[0m \u001b[0mserver\u001b[0m\u001b[1;33m=\u001b[0m\u001b[1;34m'qa-datagov01.nexjqa.local'\u001b[0m\u001b[1;33m\u001b[0m\u001b[0m\n",
      "\u001b[1;31mModuleNotFoundError\u001b[0m: No module named 'pymssql'"
     ]
    }
   ],
   "source": [
    "'''Conneetting to the DB \n",
    "'''\n",
    "import pymssql\n",
    "\n",
    "server='qa-datagov01.nexjqa.local'\n",
    "user='nexj'\n",
    "password='nexj'\n",
    "db='RPO_MAJIK_DISCOVERY'\n",
    "\n",
    "\n",
    "conn = pymssql.connect(server=server, user=user, password=password, database=db)\n",
    "cursor = conn.cursor()\n"
   ]
  },
  {
   "cell_type": "code",
   "execution_count": null,
   "metadata": {
    "collapsed": true
   },
   "outputs": [],
   "source": [
    "'''testing the connection'''\n",
    "cursor.execute(\"SELECT COUNT(MemberID) as count FROM Members WHERE id = 1\")\n",
    "row = cursor.fetchone()\n",
    "\n",
    "conn.close()\n",
    "\n",
    "print(row)"
   ]
  }
 ],
 "metadata": {
  "kernelspec": {
   "display_name": "Python 3",
   "language": "python",
   "name": "python3"
  },
  "language_info": {
   "codemirror_mode": {
    "name": "ipython",
    "version": 3
   },
   "file_extension": ".py",
   "mimetype": "text/x-python",
   "name": "python",
   "nbconvert_exporter": "python",
   "pygments_lexer": "ipython3",
   "version": "3.6.1"
  }
 },
 "nbformat": 4,
 "nbformat_minor": 2
}
