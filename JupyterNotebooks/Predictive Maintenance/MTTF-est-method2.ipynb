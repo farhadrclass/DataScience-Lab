{
 "cells": [
  {
   "cell_type": "code",
   "execution_count": 27,
   "metadata": {},
   "outputs": [
    {
     "name": "stdout",
     "output_type": "stream",
     "text": [
      "is up!\n",
      "unixODBC 2.3.1\n",
      "DRIVERS............: /etc/odbcinst.ini\n",
      "SYSTEM DATA SOURCES: /etc/odbc.ini\n",
      "FILE DATA SOURCES..: /etc/ODBCDataSources\n",
      "USER DATA SOURCES..: /home/farhad.rahbarnia/.odbc.ini\n",
      "SQLULEN Size.......: 8\n",
      "SQLLEN Size........: 8\n",
      "SQLSETPOSIROW Size.: 8\n"
     ]
    }
   ],
   "source": [
    "#Testig the ping and installing libraries \n",
    "import os\n",
    "import subprocess\n",
    "hostname = 'qa-datagov01.nexjqa.local' \n",
    "response = os.system(\"ping -c 1 \" + hostname)\n",
    "\n",
    "#and then check the response...\n",
    "if response == 0:\n",
    "  print ('is up!')\n",
    "else:\n",
    "  print ('is down!')\n",
    "\n",
    "\n",
    "print(subprocess.Popen(\"odbcinst -j\", shell=True,stdout=subprocess.PIPE).communicate()[0].decode('utf-8').strip())\n",
    "\n",
    "# proc = subprocess.Popen([\"odbcinst -j\"], stdout=subprocess.PIPE, shell=True)\n",
    "# (out, err) = proc.communicate()\n",
    "# print (\"program output:\\n\"+ str(out))"
   ]
  },
  {
   "cell_type": "code",
   "execution_count": 29,
   "metadata": {},
   "outputs": [
    {
     "name": "stdout",
     "output_type": "stream",
     "text": [
      "DB CONNECT ATTEMPT\n",
      "Error: ('01000', \"[01000] [unixODBC][Driver Manager]Can't open lib 'SQL Server' : file not found (0) (SQLDriverConnect)\")\n"
     ]
    }
   ],
   "source": [
    "'''Connecting to DB'''\n",
    "import pyodbc\n",
    "from datetime import datetime\n",
    "Server='qa-datagov01.nexjqa.local'\n",
    "DB='RPO_MAJIK_DISCOVERY'\n",
    "Ver='sql2012'\n",
    "user='nexj'\n",
    "password='nexj'\n",
    "print (\"DB CONNECT ATTEMPT\")\n",
    "try:\n",
    "    cnxn = pyodbc.connect('DRIVER={SQL Server};SERVER='+Server+';DATABASE='+DB+';UID='+user+';PWD='+password)\n",
    "    \n",
    "    print (\"SUCCESS\")\n",
    "except Exception as e:\n",
    "    print (\"Error: \" + str(e))\n",
    "\n",
    "# # Create a cursor from the connection\n",
    "# cursor = cnxn.cursor()"
   ]
  },
  {
   "cell_type": "code",
   "execution_count": 30,
   "metadata": {},
   "outputs": [
    {
     "name": "stdout",
     "output_type": "stream",
     "text": [
      "DB CONNECT ATTEMPT\n",
      "Error: ('IM002', '[IM002] [unixODBC][Driver Manager]Data source name not found, and no default driver specified (0) (SQLDriverConnect)')\n"
     ]
    }
   ],
   "source": [
    "host = \"qa-datagov01.nexjqa.local\"\n",
    "database = \"RPO_MAJIK_DISCOVERY\"\n",
    "username='nexj'\n",
    "password='nexj'\n",
    "print (\"DB CONNECT ATTEMPT\")\n",
    "try:\n",
    "    cs = 'DSN=%s;UID=%s;PWD=%s;DATABASE=%s;' % (host, username, password, database)\n",
    "    cnxn = pyodbc.connect(cs)\n",
    "    print (\"SUCCESS\")\n",
    "except Exception as e:\n",
    "    print (\"Error: \" + str(e))"
   ]
  },
  {
   "cell_type": "code",
   "execution_count": null,
   "metadata": {
    "collapsed": true
   },
   "outputs": [],
   "source": [
    "#TODO:  NEEDS TO CHANGE \n",
    "\n",
    "#first we need to read all of the error codes\n",
    "sqlStr='SELECT [id], [type]  FROM [RPO_MAJIK_DISCOVERY].[dbo].[errorcode]'\n",
    "cursor.execute(sqlStr)    \n",
    "buffers = cursor.fetchall()\n",
    "# print (buffers)\n",
    "errorcodes=[]\n",
    "for buffer in buffers: \n",
    "    errorcodes.append ((buffer[0],buffer[1]))  #TODO : make sure buffer is right\n",
    "#print (errorcodes)  \n",
    "# Read the equipment \n",
    "#\n",
    "sqlStr='SELECT [id]  FROM [RPO_MAJIK_DISCOVERY].[dbo].[equipment]'  \n",
    "cursor.execute(sqlStr)    \n",
    "buffers = cursor.fetchall()\n",
    "equipments=[]\n",
    "# eqStr=\"(\"\n",
    "\n",
    "for buffer in buffers: \n",
    "    equipments.append (buffer[0]) \n",
    "#     eqStr+='[E'+buffer[0].replace(\"-\", \"0\")+']'# becuase thats how we name the columns in SQL \n",
    "#     eqStr+=','\n",
    "\n",
    "\n",
    "# eqStr+=\"[errorID])\"\n",
    "# #print (eqStr)\n",
    "eqStr=\"([ErrorId],[line],[ErrorType],[DeviceId],[MTTF],[MeanDownT])\"\n"
   ]
  },
  {
   "cell_type": "code",
   "execution_count": null,
   "metadata": {
    "collapsed": true
   },
   "outputs": [],
   "source": [
    "'''Calculating the mean time to failure(MTTF) '''\n",
    "from datetime import datetime\n",
    "\n",
    "c=0\n",
    "\n",
    "for error in errorcodes:\n",
    "    c+=1\n",
    "#     if c==5:\n",
    "#         break\n",
    "    \n",
    "#     k=0\n",
    "    for equipment in equipments:\n",
    "        \n",
    "        sqlStr=' select * FROM [RPO_MAJIK_DISCOVERY].[dbo].[error]  WHERE LTRIM(RTRIM([equipmentId]))=LTRIM(RTRIM(\\''+equipment+'\\')) AND LTRIM(RTRIM([errorcodeId]))=LTRIM(RTRIM(\\''+error[0]+'\\')) order by start_time'\n",
    "#         print (sqlStr)\n",
    "        cursor.execute(sqlStr)    \n",
    "        '''Read all at once '''\n",
    "        rows = cursor.fetchall()\n",
    "        prev=0  # previouse value\n",
    "        avgMTTF=0\n",
    "        avgDown=0\n",
    "        count=0\n",
    "        line=1\n",
    "        strWrite=\"(\" \n",
    "        for row in rows:\n",
    "            if prev==0:\n",
    "                prev =datetime.strptime(row[3][:16], '%Y-%m-%d %H:%M')\n",
    "                \n",
    "            startTime=datetime.strptime(row[3][:16], '%Y-%m-%d %H:%M')\n",
    "            \n",
    "            count+=1\n",
    "            \n",
    "            avgMTTF+=(startTime-prev).total_seconds()/3600   \n",
    "            avgDown+=(datetime.strptime(row[4][:16], '%Y-%m-%d %H:%M')-datetime.strptime(row[3][:16], '%Y-%m-%d %H:%M')).total_seconds()/3600 \n",
    "            prev=datetime.strptime(row[4][:16], '%Y-%m-%d %H:%M')\n",
    "\n",
    "        if(count==0):\n",
    "            count=1\n",
    "        avgMTTF=avgMTTF/count\n",
    "        avgDown=avgDown/count\n",
    "        #ErrorID, Line=1, ErrorType, DeviceID and MTF as well as the MeanTotalDowntime\n",
    "        strWrite+=\"\\'\"+error[0]+\"\\'\"+','\n",
    "        strWrite+=str(line)+','\n",
    "#         strWrite+=\"\\'\"+str(line)+\"\\'\"+','\n",
    "        strWrite+=\"\\'\"+error[1]+\"\\'\"+','\n",
    "        strWrite+=\"\\'\"+equipment+\"\\'\"+','\n",
    "        strWrite+=str(avgMTTF)+','\n",
    "        strWrite+=str(avgDown)\n",
    "#         strWrite+=\"\\'\"+str(avgMTTF)+\"\\'\"+','\n",
    "#         strWrite+=\"\\'\"+str(avgDown)+\"\\'\"\n",
    "        \n",
    "        strWrite+=\")\"\n",
    "        \n",
    "        sqlStr='INSERT INTO [RPO_MAJIK_DISCOVERY].[dbo].[MTTFtbl]'+eqStr+' VALUES'+strWrite+';'\n",
    "#         print (sqlStr)\n",
    "        cursor.execute(sqlStr)   \n",
    "        cnxn.commit()\n",
    " \n",
    "    strWrite=\"\"\n",
    "    print(c)\n",
    "\n",
    "           \n",
    "            \n",
    "\n",
    "    #strWrite+=\"\\'\"+error+\"\\'\"+\")\"\n",
    "        \n",
    "\n",
    "\n",
    "\n",
    "#TODO write to SQL and update the table \n",
    "#CHANGE THE TABLE NAME AND CONDITIONS \n",
    "\n",
    "\n",
    "print(\"Done\")\n",
    "\n",
    "\n",
    "\n",
    "\n"
   ]
  }
 ],
 "metadata": {
  "kernelspec": {
   "display_name": "Python 3",
   "language": "python",
   "name": "python3"
  },
  "language_info": {
   "codemirror_mode": {
    "name": "ipython",
    "version": 3
   },
   "file_extension": ".py",
   "mimetype": "text/x-python",
   "name": "python",
   "nbconvert_exporter": "python",
   "pygments_lexer": "ipython3",
   "version": "3.4.5"
  }
 },
 "nbformat": 4,
 "nbformat_minor": 2
}
