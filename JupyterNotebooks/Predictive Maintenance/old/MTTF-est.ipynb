{
 "cells": [
  {
   "cell_type": "code",
   "execution_count": 1,
   "metadata": {
    "collapsed": true
   },
   "outputs": [],
   "source": [
    "'''Connecting to DB'''\n",
    "import pyodbc\n",
    "Server='qa-datagov01.nexjqa.local'\n",
    "DB='RPO_MAJIK_DISCOVERY'\n",
    "Ver='sql2012'\n",
    "user='nexj'\n",
    "password='nexj'\n",
    "\n",
    "cnxn = pyodbc.connect('DRIVER={SQL Server};SERVER='+Server+';DATABASE='+DB+';UID='+user+';PWD='+password)\n",
    "# Create a cursor from the connection\n",
    "cursor = cnxn.cursor()"
   ]
  },
  {
   "cell_type": "code",
   "execution_count": 2,
   "metadata": {},
   "outputs": [
    {
     "name": "stdout",
     "output_type": "stream",
     "text": [
      "([E3937001],[E3936001],[E3995001],[E3980006],[E3980005],[E3980004],[E3980003],[E3980002],[E3980001],[E3952001],[E3952002],[E3970007],[E3970008],[E3952010],[E3952003],[E3952004],[E3952005],[E3952006],[E3952007],[E3952008],[E3975002],[E3970002],[E3970003],[E3970004],[E3970006],[E3952009],[E3975001],[E3980008],[E3980007],[E3952013],[E3952014],[E3985001],[E3975003],[E3952011],[E3952012],[errorID])\n"
     ]
    }
   ],
   "source": [
    "#first we need to read all of the error codes\n",
    "sqlStr='SELECT [id]  FROM [RPO_MAJIK_DISCOVERY].[dbo].[errorcode]'\n",
    "cursor.execute(sqlStr)    \n",
    "buffers = cursor.fetchall()\n",
    "errorcodes=[]\n",
    "for buffer in buffers: \n",
    "    errorcodes.append (buffer[0])\n",
    "#print (errorcodes)  \n",
    "# Read the equipment \n",
    "#\n",
    "sqlStr='SELECT [id]  FROM [RPO_MAJIK_DISCOVERY].[dbo].[equipment]'  \n",
    "cursor.execute(sqlStr)    \n",
    "buffers = cursor.fetchall()\n",
    "equipments=[]\n",
    "eqStr=\"(\"\n",
    "\n",
    "for buffer in buffers: \n",
    "    equipments.append (buffer[0]) \n",
    "    eqStr+='[E'+buffer[0].replace(\"-\", \"0\")+']'# becuase thats how we name the columns in SQL \n",
    "    eqStr+=','\n",
    "\n",
    "\n",
    "eqStr+=\"[errorID])\"\n",
    "#print (eqStr)\n",
    "\n",
    "\n",
    "#Testing to write \n",
    "# sqlStr='INSERT INTO [RPO_MAJIK_DISCOVERY].[dbo].[mtTB]'+eqStr+' VALUES' +'(\\'1\\', \\'1\\',\\'1\\', \\'1\\',\\'1\\', \\'1\\',\\'1\\', \\'1\\',\\'1\\', \\'1\\',\\'1\\', \\'1\\',\\'1\\', \\'1\\',\\'1\\', \\'1\\',\\'1\\', \\'1\\',\\'1\\', \\'1\\',\\'1\\', \\'1\\',\\'1\\', \\'1\\',\\'1\\', \\'1\\',\\'1\\', \\'1\\',\\'1\\', \\'1\\',\\'1\\', \\'1\\',\\'1\\', \\'1\\',\\'1\\', \\'1\\')'+';'\n",
    "# # print (sqlStr) \n",
    "# cursor.execute(sqlStr)   \n",
    "# cnxn.commit()\n"
   ]
  },
  {
   "cell_type": "code",
   "execution_count": 34,
   "metadata": {},
   "outputs": [
    {
     "name": "stdout",
     "output_type": "stream",
     "text": [
      "('0.0','0.0','0.0','1893.7333333333333','2236.5125','193.66666666666669','3646.1041666666665','1704.6791666666666','1712.611111111111','0.0','0.0','0.0','0.0','0.0','0.0','0.0','0.0','0.0','0.0','0.0','0.0','0.0','0.0','0.0','0.0','0.0','0.0','3789.977083333333','317.125','0.0','0.0','0.0','0.0','0.0','0.0','57489737814c9f11b33695ac')\n",
      "INSERT INTO [RPO_MAJIK_DISCOVERY].[dbo].[mtTB]([E3937001],[E3936001],[E3995001],[E3980006],[E3980005],[E3980004],[E3980003],[E3980002],[E3980001],[E3952001],[E3952002],[E3970007],[E3970008],[E3952010],[E3952003],[E3952004],[E3952005],[E3952006],[E3952007],[E3952008],[E3975002],[E3970002],[E3970003],[E3970004],[E3970006],[E3952009],[E3975001],[E3980008],[E3980007],[E3952013],[E3952014],[E3985001],[E3975003],[E3952011],[E3952012],[errorID]) VALUES('0.0','0.0','0.0','1893.7333333333333','2236.5125','193.66666666666669','3646.1041666666665','1704.6791666666666','1712.611111111111','0.0','0.0','0.0','0.0','0.0','0.0','0.0','0.0','0.0','0.0','0.0','0.0','0.0','0.0','0.0','0.0','0.0','0.0','3789.977083333333','317.125','0.0','0.0','0.0','0.0','0.0','0.0','57489737814c9f11b33695ac');\n"
     ]
    },
    {
     "ename": "KeyboardInterrupt",
     "evalue": "",
     "output_type": "error",
     "traceback": [
      "\u001b[1;31m---------------------------------------------------------------------------\u001b[0m",
      "\u001b[1;31mKeyboardInterrupt\u001b[0m                         Traceback (most recent call last)",
      "\u001b[1;32m<ipython-input-34-437018251335>\u001b[0m in \u001b[0;36m<module>\u001b[1;34m()\u001b[0m\n\u001b[0;32m     16\u001b[0m         \u001b[0msqlStr\u001b[0m\u001b[1;33m=\u001b[0m\u001b[1;34m' select * FROM [RPO_MAJIK_DISCOVERY].[dbo].[error]  WHERE LTRIM(RTRIM([equipmentId]))=LTRIM(RTRIM(\\''\u001b[0m\u001b[1;33m+\u001b[0m\u001b[0mequipment\u001b[0m\u001b[1;33m+\u001b[0m\u001b[1;34m'\\')) AND LTRIM(RTRIM([errorcodeId]))=LTRIM(RTRIM(\\''\u001b[0m\u001b[1;33m+\u001b[0m\u001b[0merror\u001b[0m\u001b[1;33m+\u001b[0m\u001b[1;34m'\\')) order by start_time'\u001b[0m\u001b[1;33m\u001b[0m\u001b[0m\n\u001b[0;32m     17\u001b[0m \u001b[1;31m#         print (sqlStr)\u001b[0m\u001b[1;33m\u001b[0m\u001b[1;33m\u001b[0m\u001b[0m\n\u001b[1;32m---> 18\u001b[1;33m         \u001b[0mcursor\u001b[0m\u001b[1;33m.\u001b[0m\u001b[0mexecute\u001b[0m\u001b[1;33m(\u001b[0m\u001b[0msqlStr\u001b[0m\u001b[1;33m)\u001b[0m\u001b[1;33m\u001b[0m\u001b[0m\n\u001b[0m\u001b[0;32m     19\u001b[0m         \u001b[1;34m'''Read all at once '''\u001b[0m\u001b[1;33m\u001b[0m\u001b[0m\n\u001b[0;32m     20\u001b[0m         \u001b[0mrows\u001b[0m \u001b[1;33m=\u001b[0m \u001b[0mcursor\u001b[0m\u001b[1;33m.\u001b[0m\u001b[0mfetchall\u001b[0m\u001b[1;33m(\u001b[0m\u001b[1;33m)\u001b[0m\u001b[1;33m\u001b[0m\u001b[0m\n",
      "\u001b[1;31mKeyboardInterrupt\u001b[0m: "
     ]
    }
   ],
   "source": [
    "'''Calculating the mean time to failure(MTTF) '''\n",
    "from datetime import datetime\n",
    "\n",
    "c=0\n",
    "\n",
    "for error in errorcodes:\n",
    "\n",
    "    c+=1\n",
    "    if c> 20:\n",
    "        break\n",
    "     \n",
    "    strWrite=\"(\" \n",
    "\n",
    "    for equipment in equipments:\n",
    "        \n",
    "        sqlStr=' select * FROM [RPO_MAJIK_DISCOVERY].[dbo].[error]  WHERE LTRIM(RTRIM([equipmentId]))=LTRIM(RTRIM(\\''+equipment+'\\')) AND LTRIM(RTRIM([errorcodeId]))=LTRIM(RTRIM(\\''+error+'\\')) order by start_time'\n",
    "#         print (sqlStr)\n",
    "        cursor.execute(sqlStr)    \n",
    "        '''Read all at once '''\n",
    "        rows = cursor.fetchall()\n",
    "        prev=0  # previouse value\n",
    "        avg=0\n",
    "        count=0\n",
    "        for row in rows:\n",
    "            if prev==0:\n",
    "                prev =datetime.strptime(row[3][:16], '%Y-%m-%d %H:%M')\n",
    "                \n",
    "            startTime=datetime.strptime(row[3][:16], '%Y-%m-%d %H:%M')\n",
    "            \n",
    "            count+=1\n",
    "            \n",
    "            avg+=(startTime-prev).total_seconds()/3600        \n",
    "            prev==datetime.strptime(row[4][:16], '%Y-%m-%d %H:%M')\n",
    "#             print(\"-------------\")\n",
    "#             print(startTime)\n",
    "#             print(\"prev\")\n",
    "#             print(prev)\n",
    "#             print(avg)\n",
    "#             print(\"-------------\")\n",
    "        if(count==0):\n",
    "            count=1\n",
    "        avg=avg/count\n",
    "        strWrite+=\"\\'\"+str(avg)+\"\\'\"+','\n",
    "#         print(\"error=\"+error+\"\\n equipment=\"+equipment+\"\\n Avg=\"+str(avg)+\"\\n count\"+str(count)+\"\\n\\n\")\n",
    "\n",
    "           \n",
    "            \n",
    "\n",
    "    strWrite+=\"\\'\"+error+\"\\'\"+\")\"\n",
    "        \n",
    "#     print (strWrite)\n",
    "    sqlStr='INSERT INTO [RPO_MAJIK_DISCOVERY].[dbo].[mtTB]'+eqStr+' VALUES'+strWrite+';'\n",
    "    print (sqlStr) \n",
    "    strWrite=\"\"\n",
    "\n",
    "\n",
    "\n",
    "#TODO write to SQL and update the table \n",
    "#CHANGE THE TABLE NAME AND CONDITIONS \n",
    "\n",
    "\n",
    "\n",
    "\n",
    "\n",
    "\n",
    "\n"
   ]
  },
  {
   "cell_type": "code",
   "execution_count": 65,
   "metadata": {},
   "outputs": [
    {
     "name": "stdout",
     "output_type": "stream",
     "text": [
      "2 days, 5:01:00\n",
      "53.016666666666666\n"
     ]
    }
   ],
   "source": [
    "from datetime import datetime\n",
    "\n",
    "fmt = '%Y-%m-%d %H:%M:%S'\n",
    "d1 = datetime.strptime('2010-01-01 12:30:22', fmt)\n",
    "d2 = datetime.strptime('2010-01-03 17:31:22', fmt)\n",
    "\n",
    "#  print ((d2-d1).days*24)\n",
    "print ((d2-d1).total_seconds()/3600)"
   ]
  },
  {
   "cell_type": "code",
   "execution_count": 32,
   "metadata": {},
   "outputs": [
    {
     "name": "stdout",
     "output_type": "stream",
     "text": [
      "INSERT INTO [RPO_MAJIK_DISCOVERY].[dbo].[mtTB]([E3937001],[E3936001],[E3995001],[E3980006],[E3980005],[E3980004],[E3980003],[E3980002],[E3980001],[E3952001],[E3952002],[E3970007],[E3970008],[E3952010],[E3952003],[E3952004],[E3952005],[E3952006],[E3952007],[E3952008],[E3975002],[E3970002],[E3970003],[E3970004],[E3970006],[E3952009],[E3975001],[E3980008],[E3980007],[E3952013],[E3952014],[E3985001],[E3975003],[E3952011],[E3952012],[errorID]) VALUES('1', '1','1', '1','1', '1','1', '1','1', '1','1', '1','1', '1','1', '1','1', '1','1', '1','1', '1','1', '1','1', '1','1', '1','1', '1','1', '1','1', '1','1', '1');\n"
     ]
    }
   ],
   "source": [
    "sqlStr='INSERT INTO [RPO_MAJIK_DISCOVERY].[dbo].[mtTB]'+eqStr+' VALUES' +'(\\'1\\', \\'1\\',\\'1\\', \\'1\\',\\'1\\', \\'1\\',\\'1\\', \\'1\\',\\'1\\', \\'1\\',\\'1\\', \\'1\\',\\'1\\', \\'1\\',\\'1\\', \\'1\\',\\'1\\', \\'1\\',\\'1\\', \\'1\\',\\'1\\', \\'1\\',\\'1\\', \\'1\\',\\'1\\', \\'1\\',\\'1\\', \\'1\\',\\'1\\', \\'1\\',\\'1\\', \\'1\\',\\'1\\', \\'1\\',\\'1\\', \\'1\\')'+';'\n",
    "print (sqlStr) "
   ]
  },
  {
   "cell_type": "code",
   "execution_count": null,
   "metadata": {
    "collapsed": true
   },
   "outputs": [],
   "source": []
  }
 ],
 "metadata": {
  "kernelspec": {
   "display_name": "Python 3",
   "language": "python",
   "name": "python3"
  },
  "language_info": {
   "codemirror_mode": {
    "name": "ipython",
    "version": 3
   },
   "file_extension": ".py",
   "mimetype": "text/x-python",
   "name": "python",
   "nbconvert_exporter": "python",
   "pygments_lexer": "ipython3",
   "version": "3.6.1"
  }
 },
 "nbformat": 4,
 "nbformat_minor": 2
}
