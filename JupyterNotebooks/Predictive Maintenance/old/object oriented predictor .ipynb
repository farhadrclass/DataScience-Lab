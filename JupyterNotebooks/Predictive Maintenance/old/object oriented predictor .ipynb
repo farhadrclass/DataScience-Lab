{
 "cells": [
  {
   "cell_type": "code",
   "execution_count": 7,
   "metadata": {
    "collapsed": true
   },
   "outputs": [],
   "source": [
    "class Device(object):\n",
    "    \"\"\"Each  of the factury line:\n",
    "    Assumtion:\n",
    "        We are not sending the values that are zero or negative when creating the class(we filter them out)\n",
    "    Attributes:\n",
    "        id: A string representing the Device id  .\n",
    "        errors: dictinary of the errors,   id as the key  and their MTTF and MeanTimeDown as values [ErrorType,MTTF,MeanTimeDown]\n",
    "        Line number: the current line \n",
    "        Run Time: the run time of the device  , dictianry with error id as the key , MTTF- running time of the device since the last maintance for that error as value if it gets close to a threshold we notify the system admion \n",
    "    \"\"\"\n",
    "    \n",
    "    def __init__(self, deviceId,Line):\n",
    "        \"Initilize the values\"\n",
    "        self.id = deviceId\n",
    "        self.line=Line\n",
    "        self.errors={}#dict()\n",
    "        self.runTime={}\n",
    "        self.maintenanceFlag=False  # this should be array for each error but for now just use one flag \n",
    "        \n",
    "    def get_deviceId(self):\n",
    "        return self.id\n",
    "    def get_line(self):\n",
    "        return self.line\n",
    "    def get_errors(self):\n",
    "        return self.errors\n",
    "    def get_runTime(self):\n",
    "        return self.runTime\n",
    "    \n",
    "    def update_deviceId(self, newDeviceId):\n",
    "        self.id=newDeviceId\n",
    "    def update_line(self,newLine):\n",
    "        self.line=newLine\n",
    "    def get_error_size(self):\n",
    "        '''Return the number of errors that are associated with each device '''\n",
    "        return len(self.errors)\n",
    "    \n",
    "    def add_errors(self,deviceId,errorID,MTTF,MeanDownT,ErrorType):\n",
    "        \"Assign the values of error associated with the device\"\n",
    "        if(self.id!=deviceId):\n",
    "            print(\"WRONG DEVICE!\")\n",
    "            return\n",
    "        if(errorID not in self.errors):\n",
    "            self.errors[errorID]=[ErrorType,MTTF,MeanDownT]\n",
    "        #else --Not sure about this yet \n",
    "        #we also initilize the values in the runTime dictinary\n",
    "        #if(errorID not in self.runTime and ErrorType=='Unplanned'):\n",
    "        if(errorID not in self.runTime): \n",
    "            self.runTime[errorID]=MTTF\n",
    "        \n",
    "    def update_RunTime(self, hours):\n",
    "        \"updating the run time after some amopunt of running time of the device\"\n",
    "        for errorID in self.runTime:\n",
    "            self.runTime[errorID]-=hours\n",
    "            \n",
    "    def reset_RunTime(self, errorID):\n",
    "        \"if a fix for an error id happens for a device the runtime value will be updated to the original value \"\n",
    "        if((errorID  in self.runTime) and (errorID in self.errors)):\n",
    "            self.maintenanceFlag=False  # if it was the array then we use the error to index it \n",
    "            self.runTime[errorID]=self.runTime[errors][0]\n",
    "               \n",
    "    def get_maintenanceFlag(self):\n",
    "        return self.maintenanceFlag\n",
    "            \n",
    "    def perdicted_error(self, threshold):\n",
    "        \"Return a list of errors for the device that can happen in the next given threshold time\"\n",
    "        maintenance=[]\n",
    "        for errorID in self.runTime:\n",
    "            if self.runTime[errorID] <= threshold:\n",
    "                    self.maintenanceFlag=True\n",
    "                    maintenance.append(errorID)\n",
    "        return maintenance\n",
    "    \n",
    "    def print_device(self):\n",
    "        print (self.runTime)\n",
    "            \n",
    "    "
   ]
  },
  {
   "cell_type": "code",
   "execution_count": 6,
   "metadata": {},
   "outputs": [
    {
     "ename": "Error",
     "evalue": "('01000', \"[01000] [unixODBC][Driver Manager]Can't open lib 'SQL Server' : file not found (0) (SQLDriverConnect)\")",
     "output_type": "error",
     "traceback": [
      "\u001b[0;31m---------------------------------------------------------------------------\u001b[0m",
      "\u001b[0;31mError\u001b[0m                                     Traceback (most recent call last)",
      "\u001b[0;32m<ipython-input-6-27e24defe47b>\u001b[0m in \u001b[0;36m<module>\u001b[0;34m()\u001b[0m\n\u001b[1;32m      7\u001b[0m \u001b[0mpassword\u001b[0m\u001b[0;34m=\u001b[0m\u001b[0;34m'nexj'\u001b[0m\u001b[0;34m\u001b[0m\u001b[0m\n\u001b[1;32m      8\u001b[0m \u001b[0;34m\u001b[0m\u001b[0m\n\u001b[0;32m----> 9\u001b[0;31m \u001b[0mcnxn\u001b[0m \u001b[0;34m=\u001b[0m \u001b[0mpyodbc\u001b[0m\u001b[0;34m.\u001b[0m\u001b[0mconnect\u001b[0m\u001b[0;34m(\u001b[0m\u001b[0;34m'DRIVER={SQL Server};SERVER='\u001b[0m\u001b[0;34m+\u001b[0m\u001b[0mServer\u001b[0m\u001b[0;34m+\u001b[0m\u001b[0;34m';DATABASE='\u001b[0m\u001b[0;34m+\u001b[0m\u001b[0mDB\u001b[0m\u001b[0;34m+\u001b[0m\u001b[0;34m';UID='\u001b[0m\u001b[0;34m+\u001b[0m\u001b[0muser\u001b[0m\u001b[0;34m+\u001b[0m\u001b[0;34m';PWD='\u001b[0m\u001b[0;34m+\u001b[0m\u001b[0mpassword\u001b[0m\u001b[0;34m)\u001b[0m\u001b[0;34m\u001b[0m\u001b[0m\n\u001b[0m\u001b[1;32m     10\u001b[0m \u001b[0;31m# Create a cursor from the connection\u001b[0m\u001b[0;34m\u001b[0m\u001b[0;34m\u001b[0m\u001b[0m\n\u001b[1;32m     11\u001b[0m \u001b[0mcursor\u001b[0m \u001b[0;34m=\u001b[0m \u001b[0mcnxn\u001b[0m\u001b[0;34m.\u001b[0m\u001b[0mcursor\u001b[0m\u001b[0;34m(\u001b[0m\u001b[0;34m)\u001b[0m\u001b[0;34m\u001b[0m\u001b[0m\n",
      "\u001b[0;31mError\u001b[0m: ('01000', \"[01000] [unixODBC][Driver Manager]Can't open lib 'SQL Server' : file not found (0) (SQLDriverConnect)\")"
     ]
    }
   ],
   "source": [
    "'''Connecting to DB'''\n",
    "import pyodbc\n",
    "Server='qa-datagov01.nexjqa.local'\n",
    "DB='RPO_MAJIK_DISCOVERY'\n",
    "Ver='sql2012'\n",
    "user='nexj'\n",
    "password='nexj'\n",
    "\n",
    "cnxn = pyodbc.connect('DRIVER={SQL Server};SERVER='+Server+';DATABASE='+DB+';UID='+user+';PWD='+password)\n",
    "# Create a cursor from the connection\n",
    "cursor = cnxn.cursor()"
   ]
  },
  {
   "cell_type": "code",
   "execution_count": null,
   "metadata": {
    "collapsed": true
   },
   "outputs": [],
   "source": [
    "sqlStr='SELECT [id]  FROM [RPO_MAJIK_DISCOVERY].[dbo].[equipment]'  \n",
    "cursor.execute(sqlStr)    \n",
    "buffers = cursor.fetchall()\n",
    "equipments=[]\n",
    "# eqStr=\"(\"\n",
    "\n",
    "for buffer in buffers: \n",
    "    equipments.append (buffer[0]) \n",
    "#print (equipments)"
   ]
  },
  {
   "cell_type": "code",
   "execution_count": 4,
   "metadata": {},
   "outputs": [
    {
     "ename": "NameError",
     "evalue": "name 'equipments' is not defined",
     "output_type": "error",
     "traceback": [
      "\u001b[0;31m---------------------------------------------------------------------------\u001b[0m",
      "\u001b[0;31mNameError\u001b[0m                                 Traceback (most recent call last)",
      "\u001b[0;32m<ipython-input-4-3c301052f63f>\u001b[0m in \u001b[0;36m<module>\u001b[0;34m()\u001b[0m\n\u001b[1;32m      1\u001b[0m \u001b[0meqi\u001b[0m\u001b[0;34m=\u001b[0m\u001b[0;34m[\u001b[0m\u001b[0;34m]\u001b[0m\u001b[0;34m\u001b[0m\u001b[0m\n\u001b[0;32m----> 2\u001b[0;31m \u001b[0;32mfor\u001b[0m \u001b[0mequipment\u001b[0m \u001b[0;32min\u001b[0m \u001b[0mequipments\u001b[0m\u001b[0;34m:\u001b[0m\u001b[0;34m\u001b[0m\u001b[0m\n\u001b[0m\u001b[1;32m      3\u001b[0m \u001b[0;34m\u001b[0m\u001b[0m\n\u001b[1;32m      4\u001b[0m         \u001b[0msqlStr\u001b[0m\u001b[0;34m=\u001b[0m\u001b[0;34m' select * FROM [RPO_MAJIK_DISCOVERY].[dbo].[MTTFtbl]  WHERE LTRIM(RTRIM([DeviceId]))=LTRIM(RTRIM(\\''\u001b[0m\u001b[0;34m+\u001b[0m\u001b[0mequipment\u001b[0m\u001b[0;34m+\u001b[0m\u001b[0;34m'\\')) AND  [MTTF] > 0 '\u001b[0m\u001b[0;34m\u001b[0m\u001b[0m\n\u001b[1;32m      5\u001b[0m \u001b[0;31m#         print (sqlStr)\u001b[0m\u001b[0;34m\u001b[0m\u001b[0;34m\u001b[0m\u001b[0m\n",
      "\u001b[0;31mNameError\u001b[0m: name 'equipments' is not defined"
     ]
    }
   ],
   "source": [
    "eqi=[]\n",
    "for equipment in equipments:\n",
    "        \n",
    "        sqlStr=' select * FROM [RPO_MAJIK_DISCOVERY].[dbo].[MTTFtbl]  WHERE LTRIM(RTRIM([DeviceId]))=LTRIM(RTRIM(\\''+equipment+'\\')) AND  [MTTF] > 0 ' \n",
    "#         print (sqlStr)\n",
    "        cursor.execute(sqlStr)    \n",
    "        '''Read all at once '''\n",
    "        rows = cursor.fetchall()\n",
    "        buffer=Device(equipment,1)\n",
    "        for row in rows:\n",
    "            buffer.add_errors(equipment,row[1],row[4],row[5],row[2])\n",
    "        eqi.append(buffer)\n",
    "# print(eqi)"
   ]
  },
  {
   "cell_type": "code",
   "execution_count": 4,
   "metadata": {},
   "outputs": [
    {
     "ename": "NameError",
     "evalue": "name 'eqi' is not defined",
     "output_type": "error",
     "traceback": [
      "\u001b[0;31m---------------------------------------------------------------------------\u001b[0m",
      "\u001b[0;31mNameError\u001b[0m                                 Traceback (most recent call last)",
      "\u001b[0;32m<ipython-input-4-c688a9a4a0b7>\u001b[0m in \u001b[0;36m<module>\u001b[0;34m()\u001b[0m\n\u001b[0;32m----> 1\u001b[0;31m \u001b[0;32mfor\u001b[0m \u001b[0me\u001b[0m \u001b[0;32min\u001b[0m \u001b[0meqi\u001b[0m\u001b[0;34m:\u001b[0m\u001b[0;34m\u001b[0m\u001b[0m\n\u001b[0m\u001b[1;32m      2\u001b[0m     \u001b[0mprint\u001b[0m\u001b[0;34m(\u001b[0m\u001b[0;34m(\u001b[0m\u001b[0me\u001b[0m\u001b[0;34m.\u001b[0m\u001b[0mget_deviceId\u001b[0m\u001b[0;34m(\u001b[0m\u001b[0;34m)\u001b[0m\u001b[0;34m,\u001b[0m\u001b[0me\u001b[0m\u001b[0;34m.\u001b[0m\u001b[0mget_error_size\u001b[0m\u001b[0;34m(\u001b[0m\u001b[0;34m)\u001b[0m\u001b[0;34m)\u001b[0m\u001b[0;34m)\u001b[0m\u001b[0;34m\u001b[0m\u001b[0m\n",
      "\u001b[0;31mNameError\u001b[0m: name 'eqi' is not defined"
     ]
    }
   ],
   "source": [
    "for e in eqi:\n",
    "    print((e.get_deviceId(),e.get_error_size()))"
   ]
  },
  {
   "cell_type": "code",
   "execution_count": 8,
   "metadata": {},
   "outputs": [
    {
     "ename": "NameError",
     "evalue": "name 'eqi' is not defined",
     "output_type": "error",
     "traceback": [
      "\u001b[0;31m---------------------------------------------------------------------------\u001b[0m",
      "\u001b[0;31mNameError\u001b[0m                                 Traceback (most recent call last)",
      "\u001b[0;32m<ipython-input-8-c793b3db43c5>\u001b[0m in \u001b[0;36m<module>\u001b[0;34m()\u001b[0m\n\u001b[0;32m----> 1\u001b[0;31m \u001b[0;32mfor\u001b[0m \u001b[0me\u001b[0m \u001b[0;32min\u001b[0m \u001b[0meqi\u001b[0m\u001b[0;34m:\u001b[0m\u001b[0;34m\u001b[0m\u001b[0m\n\u001b[0m\u001b[1;32m      2\u001b[0m     \u001b[0;31m# update the time for errors (let's say that we have been running it for 5 hours)\u001b[0m\u001b[0;34m\u001b[0m\u001b[0;34m\u001b[0m\u001b[0m\n\u001b[1;32m      3\u001b[0m     \u001b[0me\u001b[0m\u001b[0;34m.\u001b[0m\u001b[0mupdate_RunTime\u001b[0m\u001b[0;34m(\u001b[0m\u001b[0;36m5\u001b[0m\u001b[0;34m)\u001b[0m\u001b[0;34m\u001b[0m\u001b[0m\n\u001b[1;32m      4\u001b[0m     \u001b[0;31m#put the threashold to 1 hour\u001b[0m\u001b[0;34m\u001b[0m\u001b[0;34m\u001b[0m\u001b[0m\n\u001b[1;32m      5\u001b[0m     \u001b[0mneedToFix\u001b[0m\u001b[0;34m=\u001b[0m\u001b[0me\u001b[0m\u001b[0;34m.\u001b[0m\u001b[0mperdicted_error\u001b[0m\u001b[0;34m(\u001b[0m\u001b[0;36m1\u001b[0m\u001b[0;34m)\u001b[0m\u001b[0;34m\u001b[0m\u001b[0m\n",
      "\u001b[0;31mNameError\u001b[0m: name 'eqi' is not defined"
     ]
    }
   ],
   "source": [
    "for e in eqi:\n",
    "    # update the time for errors (let's say that we have been running it for 5 hours)\n",
    "    e.update_RunTime(5)\n",
    "    #put the threashold to 1 hour \n",
    "    needToFix=e.perdicted_error(1)\n",
    "    #if one of the errors break then we print them and fix them\n",
    "\n",
    "    if(e.get_maintenanceFlag()==True):\n",
    "        print(needToFix)\n",
    "        print (\"FIXING\")\n",
    "        for error in needToFix:\n",
    "            e.reset_RunTime(e)\n",
    "        \n",
    "    "
   ]
  },
  {
   "cell_type": "code",
   "execution_count": null,
   "metadata": {
    "collapsed": true
   },
   "outputs": [],
   "source": []
  }
 ],
 "metadata": {
  "kernelspec": {
   "display_name": "Python 3",
   "language": "python",
   "name": "python3"
  },
  "language_info": {
   "codemirror_mode": {
    "name": "ipython",
    "version": 3
   },
   "file_extension": ".py",
   "mimetype": "text/x-python",
   "name": "python",
   "nbconvert_exporter": "python",
   "pygments_lexer": "ipython3",
   "version": "3.4.5"
  }
 },
 "nbformat": 4,
 "nbformat_minor": 2
}
