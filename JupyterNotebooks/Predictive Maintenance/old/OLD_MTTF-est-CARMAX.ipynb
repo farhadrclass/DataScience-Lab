{
 "cells": [
  {
   "cell_type": "code",
   "execution_count": 2,
   "metadata": {
    "collapsed": true
   },
   "outputs": [],
   "source": [
    "'''Connecting to DB'''\n",
    "import pyodbc\n",
    "Server='qa-datagov01.nexjqa.local'\n",
    "DB='PRO_MAJIK_CARMAX'\n",
    "Ver='sql2012'\n",
    "user='nexj'\n",
    "password='nexj'\n",
    "\n",
    "cnxn = pyodbc.connect('DRIVER={SQL Server};SERVER='+Server+';DATABASE='+DB+';UID='+user+';PWD='+password)\n",
    "# Create a cursor from the connection\n",
    "cursor = cnxn.cursor()"
   ]
  },
  {
   "cell_type": "code",
   "execution_count": 12,
   "metadata": {},
   "outputs": [],
   "source": [
    "#TODO:  NEEDS TO CHANGE \n",
    "\n",
    "#first we need to read all of the error codes\n",
    "sqlStr=' SELECT DISTINCT [errorCode]     FROM [PRO_MAJIK_CARMAX].[dbo].[\\'elinedt-Majik_full-data-set_pre$\\']'\n",
    "\n",
    "cursor.execute(sqlStr)    \n",
    "buffers = cursor.fetchall()\n",
    "\n",
    "errorcodes=[]\n",
    "for buffer in buffers: \n",
    "    errorcodes.append (buffer[0])#For once we have type , subtype((buffer[0],buffer[1]))  #TODO : make sure buffer is right\n",
    "# errorCodeprint (errorcodes)  \n",
    "# Read the equipment \n",
    "# \n",
    "\n",
    "\n",
    "\n",
    "#Since Equipments at the monemt don't exist we ignore it here \n",
    "# sqlStr='SELECT [id]  FROM [RPO_MAJIK_DISCOVERY].[dbo].[equipment]'  \n",
    "# cursor.execute(sqlStr)    \n",
    "# buffers = cursor.fetchall()\n",
    "# equipments=[]\n",
    "# # eqStr=\"(\"\n",
    "\n",
    "# for buffer in buffers: \n",
    "#     equipments.append (buffer[0]) \n",
    "# #     eqStr+='[E'+buffer[0].replace(\"-\", \"0\")+']'# becuase thats how we name the columns in SQL \n",
    "# #     eqStr+=','\n",
    "\n",
    "\n",
    "# # eqStr+=\"[errorID])\"\n",
    "# # #print (eqStr)\n",
    "# eqStr=\"([ErrorId],[line],[ErrorType],[DeviceId],[MTTF],[MeanDownT])\"\n"
   ]
  },
  {
   "cell_type": "code",
   "execution_count": 14,
   "metadata": {},
   "outputs": [
    {
     "name": "stdout",
     "output_type": "stream",
     "text": [
      "Done\n"
     ]
    }
   ],
   "source": [
    "'''Calculating the mean time to failure(MTTF) '''\n",
    "from datetime import datetime\n",
    "\n",
    "c=0\n",
    "eqStr=\"([ErrorId],[line],[ErrorType],[DeviceId],[MTTF],[MeanDownT])\"\n",
    "for error in errorcodes:\n",
    "    if error==None:\n",
    "        error=\"N/A\"\n",
    "        \n",
    "    c+=1\n",
    "#     if c>1:\n",
    "#         break\n",
    "    sqlStr=' select * FROM [PRO_MAJIK_CARMAX].[dbo].[\\'elinedt-Majik_full-data-set_pre$\\'] WHERE [errorCode]=LTRIM(RTRIM(\\''+error+'\\')) order by start'\n",
    "    cursor.execute(sqlStr)    \n",
    "    '''Read all at once '''\n",
    "    rows = cursor.fetchall()\n",
    "    prev=0  # previouse value\n",
    "    avgMTTF=0\n",
    "    avgDown=0\n",
    "    count=0\n",
    "    line=1 #For now We have line 1 \n",
    "    \n",
    "#     for row in rows:\n",
    "# #         print(row)\n",
    "    strWrite=\"(\" \n",
    "    for row in rows:\n",
    "        if prev==0:\n",
    "#             prev =datetime.strptime(row[1], '%Y-%m-%d %H:%M')\n",
    "            prev=row[1]\n",
    "\n",
    "        startTime=row[1]\n",
    "\n",
    "        count+=1\n",
    "\n",
    "        avgMTTF+=(startTime-prev).total_seconds()/3600   \n",
    "        avgDown+=row[3] \n",
    "        prev=row[2]\n",
    "\n",
    "    if(count==0):\n",
    "        count=1\n",
    "    avgMTTF=avgMTTF/count\n",
    "    avgDown=avgDown/count        \n",
    "       \n",
    "\n",
    "\n",
    "\n",
    "    strWrite+=\"\\'\"+error+\"\\'\"+','\n",
    "    strWrite+=str(line)+','\n",
    "#         strWrite+=\"\\'\"+str(line)+\"\\'\"+','\n",
    "    strWrite+=\"\\'\"+error+\"\\'\"+',' #for now error type and id are the same\n",
    "    strWrite+=\"\\'\"+\"equipment\"+\"\\'\"+','#we don't have a name for it yet\n",
    "    strWrite+=str(avgMTTF)+','\n",
    "    strWrite+=str(avgDown)\n",
    "\n",
    "\n",
    "    strWrite+=\")\"\n",
    "\n",
    "    sqlStr='INSERT INTO [PRO_MAJIK_CARMAX].[dbo].[MTTFtbl]'+eqStr+' VALUES'+strWrite+';'\n",
    "#     print (sqlStr)\n",
    "#     break\n",
    "    cursor.execute(sqlStr)   \n",
    "    cnxn.commit()\n",
    "\n",
    "strWrite=\"\"\n",
    "\n",
    "\n",
    "           \n",
    "            \n",
    "\n",
    "\n",
    "print(\"Done\")\n",
    "\n",
    "\n",
    "\n",
    "\n"
   ]
  },
  {
   "cell_type": "code",
   "execution_count": null,
   "metadata": {
    "collapsed": true
   },
   "outputs": [],
   "source": []
  },
  {
   "cell_type": "code",
   "execution_count": null,
   "metadata": {
    "collapsed": true
   },
   "outputs": [],
   "source": []
  },
  {
   "cell_type": "code",
   "execution_count": null,
   "metadata": {
    "collapsed": true
   },
   "outputs": [],
   "source": []
  },
  {
   "cell_type": "code",
   "execution_count": null,
   "metadata": {
    "collapsed": true
   },
   "outputs": [],
   "source": []
  }
 ],
 "metadata": {
  "kernelspec": {
   "display_name": "Python 3",
   "language": "python",
   "name": "python3"
  },
  "language_info": {
   "codemirror_mode": {
    "name": "ipython",
    "version": 3
   },
   "file_extension": ".py",
   "mimetype": "text/x-python",
   "name": "python",
   "nbconvert_exporter": "python",
   "pygments_lexer": "ipython3",
   "version": "3.6.1"
  }
 },
 "nbformat": 4,
 "nbformat_minor": 2
}
