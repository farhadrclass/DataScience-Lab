{
 "cells": [
  {
   "cell_type": "code",
   "execution_count": 1,
   "metadata": {
    "collapsed": true
   },
   "outputs": [],
   "source": [
    "'''Connecting to DB'''\n",
    "import pyodbc\n",
    "Server='qa-datagov01.nexjqa.local'\n",
    "DB='PRO_MAJIK_CARMAX'\n",
    "Ver='sql2012'\n",
    "user='nexj'\n",
    "password='nexj'\n",
    "\n",
    "cnxn = pyodbc.connect('DRIVER={SQL Server};SERVER='+Server+';DATABASE='+DB+';UID='+user+';PWD='+password)\n",
    "# Create a cursor from the connection\n",
    "cursor = cnxn.cursor()"
   ]
  },
  {
   "cell_type": "code",
   "execution_count": 2,
   "metadata": {
    "collapsed": true
   },
   "outputs": [],
   "source": [
    "# '''getting the list of equipments'''\n",
    "# sqlStr='SELECT [id]  FROM [PRO_MAJIK_CARMAX].[dbo].[equipment]'  \n",
    "# cursor.execute(sqlStr)    \n",
    "# buffers = cursor.fetchall()\n",
    "# equipments=[]\n",
    "# # eqStr=\"(\"\n",
    "\n",
    "# for buffer in buffers: \n",
    "#     equipments.append (buffer[0]) \n",
    "# #print (equipments)\n",
    "equipments=[]\n",
    "equipments.append (\"equipment\")"
   ]
  },
  {
   "cell_type": "code",
   "execution_count": 3,
   "metadata": {
    "collapsed": true
   },
   "outputs": [],
   "source": [
    "class Device(object):\n",
    "    \"\"\"Each  of the factury line:\n",
    "    Assumtion:\n",
    "        We are not sending the values that are zero or negative when creating the class(we filter them out)\n",
    "    Attributes:\n",
    "        id: A string representing the Device id  .\n",
    "        errors: dictinary of the errors,   id as the key  and their MTTF and MeanTimeDown as values [ErrorType,MTTF,MeanTimeDown]\n",
    "        Line number: the current line \n",
    "        Run Time: the run time of the device  , dictianry with error id as the key , MTTF- running time of the device since the last maintance for that error as value if it gets close to a threshold we notify the system admion \n",
    "    \"\"\"\n",
    "    \n",
    "    def __init__(self, deviceId,Line):\n",
    "        \"Initilize the values\"\n",
    "        self.id = deviceId\n",
    "        self.line=Line\n",
    "        self.errors={}#dict()\n",
    "        self.runTime={}\n",
    "        self.maintenanceFlag=False  # this should be array for each error but for now just use one flag \n",
    "        \n",
    "    def get_deviceId(self):\n",
    "        return self.id\n",
    "    def get_line(self):\n",
    "        return self.line\n",
    "\n",
    "    def get_runTime(self):\n",
    "        return self.runTime\n",
    "    \n",
    "    def update_deviceId(self, newDeviceId):\n",
    "        self.id=newDeviceId\n",
    "    def update_line(self,newLine):\n",
    "        self.line=newLine\n",
    "    def get_error_size(self):\n",
    "        '''Return the number of errors that are associated with each device '''\n",
    "        return len(self.runTime)\n",
    "    \n",
    "    \n",
    "    def add_runtimes(self,deviceId,errorID,MTTF,ErrorType):\n",
    "        \"Assign the values of runtime associated with the device\"\n",
    "        if(self.id!=deviceId):\n",
    "            print(\"WRONG DEVICE!\")\n",
    "            return\n",
    "        self.runTime[errorID]=MTTF\n",
    "\n",
    "        \n",
    "    def update_RunTime(self, hours):\n",
    "        \"updating the run time after some amopunt of running time of the device\"\n",
    "        for errorID in self.runTime:\n",
    "            self.runTime[errorID]-=hours\n",
    "            \n",
    "    def reset_RunTime(self,deviceId,errorID,MTTF,ErrorType):\n",
    "        \"if a fix for an error id happens for a device the runtime value will be updated to the original value \"\n",
    "        if(errorID  in self.runTime):\n",
    "            self.maintenanceFlag=False  # if it was the array then we use the error to index it \n",
    "            self.runTime[errorID]=MTTF\n",
    "               \n",
    "    def get_maintenanceFlag(self):\n",
    "        return self.maintenanceFlag\n",
    "            \n",
    "    def perdicted_error(self, threshold):\n",
    "        \"Return a list of errors for the device that can happen in the next given threshold time\"\n",
    "        maintenance=[]\n",
    "        for errorID in self.runTime:\n",
    "            if self.runTime[errorID] <= threshold:\n",
    "                    self.maintenanceFlag=True\n",
    "                    maintenance.append(errorID)\n",
    "        return maintenance\n",
    "    \n",
    "    def print_device(self):\n",
    "        print (self.runTime)\n",
    "            \n",
    "    "
   ]
  },
  {
   "cell_type": "code",
   "execution_count": 4,
   "metadata": {
    "collapsed": true
   },
   "outputs": [],
   "source": [
    "eqi=[]\n",
    "#DEFINEING THE ROW NAMEs\n",
    "line=0\n",
    "ErrorId=1\n",
    "ErrorType=2\n",
    "DeviceId=3\n",
    "TFsum=4\n",
    "DownTimeSum=5\n",
    "Fnum=6\n",
    "\n",
    " #if FLAG is 1 add runtime from error if 0 add from runtable\n",
    "FLAG=1\n",
    "# FLAG=0\n",
    "\n",
    "for equipment in equipments:        \n",
    "        sqlStr=' select * FROM [PRO_MAJIK_CARMAX].[dbo].[MTTFtbl]  WHERE LTRIM(RTRIM([DeviceId]))=LTRIM(RTRIM(\\''+equipment+'\\')) AND  [TFsum] > 0 ' \n",
    "#         print (sqlStr)\n",
    "        cursor.execute(sqlStr)    \n",
    "        '''Read all at once '''\n",
    "        rows = cursor.fetchall()\n",
    "        buffer=Device(equipment,1)\n",
    "        for row in rows:\n",
    "            if(row[Fnum]==0):\n",
    "                MTTF=0\n",
    "                MeanDownT=0\n",
    "            else:\n",
    "                MTTF=row[TFsum]/row[Fnum]\n",
    "#                 MeanDownT=row[DownTimeSum]/row[Fnum]\n",
    "            if(FLAG==1):\n",
    "                buffer.add_runtimes(equipment,row[ErrorId],MTTF,row[ErrorType])\n",
    "\n",
    "        \n",
    "        if(FLAG==0):\n",
    "            '''Fetching from run table'''\n",
    "            sqlStr=' select * FROM [PRO_MAJIK_CARMAX].[dbo].[RUNtbl]  WHERE LTRIM(RTRIM([DeviceId]))=LTRIM(RTRIM(\\''+equipment+'\\')) AND  [MTTF] > 0 ' \n",
    "            cursor.execute(sqlStr)    \n",
    "            '''Read all at once '''\n",
    "            run_rows = cursor.fetchall()\n",
    "  \n",
    "            for row in run_rows:  \n",
    "                MTTF=row[TFsum]\n",
    "                buffer.add_runtimes(equipment,row[ErrorId],MTTF,row[ErrorType])\n",
    "        \n",
    "            \n",
    "           \n",
    "        eqi.append(buffer)"
   ]
  },
  {
   "cell_type": "code",
   "execution_count": 5,
   "metadata": {},
   "outputs": [
    {
     "name": "stdout",
     "output_type": "stream",
     "text": [
      "('equipment', 124)\n"
     ]
    }
   ],
   "source": [
    "for e in eqi:\n",
    "    print((e.get_deviceId(),e.get_error_size()))"
   ]
  },
  {
   "cell_type": "code",
   "execution_count": 10,
   "metadata": {},
   "outputs": [
    {
     "name": "stdout",
     "output_type": "stream",
     "text": [
      "['A-UL', 'LC-', 'MT-Electrical', 'SU-']\n",
      "FIXING\n"
     ]
    }
   ],
   "source": [
    "eqStr=\"([ErrorId],[line],[ErrorType],[DeviceId],[MTTF])\" \n",
    "line=1\n",
    "for e in eqi:\n",
    "    # update the time for errors (let's say that we have been running it for 2 hours)\n",
    "    e.update_RunTime(2000)\n",
    "    device_name=e.get_deviceId()  #FOR NOW WE DON'T NEED THIS \n",
    "    #ERROR TYPE FOR NOW IS JUST A STRING \n",
    "    runList= e.get_runTime()\n",
    "    \n",
    "    for key in runList:\n",
    "        strWrite=\"\"\n",
    "        strWrite+=\"\\'\"+key+\"\\'\"+','\n",
    "        strWrite+=str(line)+','\n",
    "        strWrite+=\"\\'\"+\"UNPLANNED\"+\"\\'\"+',' #for now error type and id are the same\n",
    "        strWrite+=\"\\'\"+\"equipment\"+\"\\'\"+','#we don't have a name for it yet\n",
    "        strWrite+=str(runList[key])\n",
    "    \n",
    "        #writing to DB \n",
    "        sqlStr=' UPDATE [PRO_MAJIK_CARMAX].[dbo].[RUNtbl] set [MTTF]='+str(runList[key])+' WHERE  [ErrorId] = \\''+key+'\\' AND [DeviceId]=\\''+\"equipment\"+'\\';  INSERT INTO [PRO_MAJIK_CARMAX].[dbo].[RUNtbl]'+eqStr+' select '+strWrite+' WHERE NOT EXISTS(select * From [PRO_MAJIK_CARMAX].[dbo].[RUNtbl]  WHERE  [ErrorId] = \\''+key+'\\'AND [DeviceId]=\\''+\"equipment\"+'\\' );'\n",
    "        cursor.execute(sqlStr)   \n",
    "        cnxn.commit()\n",
    "    \n",
    "    \n",
    "    #put the threashold to 1 hour \n",
    "    needToFix=e.perdicted_error(1000)\n",
    "    #if one of the errors break then we print them and fix them\n",
    "\n",
    "    if(e.get_maintenanceFlag()==True):\n",
    "        print(needToFix)\n",
    "        print (\"FIXING\")\n",
    "        for error in needToFix:\n",
    "            sqlStr=' select * FROM [PRO_MAJIK_CARMAX].[dbo].[MTTFtbl]  WHERE [ErrorId]=LTRIM(RTRIM(\\''+error+'\\')) AND LTRIM(RTRIM([DeviceId]))=LTRIM(RTRIM(\\''+device_name+'\\')) AND  [TFsum] > 0 '\n",
    "            cursor.execute(sqlStr)    \n",
    "            '''Read all at once '''\n",
    "            rows = cursor.fetchall() #this should be one item \n",
    "            for row in rows:#this should be one item \n",
    "                if(row[Fnum]==0):\n",
    "                    MTTF=0\n",
    "                else:\n",
    "                    MTTF=row[TFsum]/row[Fnum]\n",
    "            \n",
    "            e.reset_RunTime(device_name,error,MTTF,ErrorType)\n",
    "            \n",
    "    #update the run time table !!"
   ]
  },
  {
   "cell_type": "code",
   "execution_count": null,
   "metadata": {
    "collapsed": true
   },
   "outputs": [],
   "source": []
  }
 ],
 "metadata": {
  "kernelspec": {
   "display_name": "Python 3",
   "language": "python",
   "name": "python3"
  },
  "language_info": {
   "codemirror_mode": {
    "name": "ipython",
    "version": 3
   },
   "file_extension": ".py",
   "mimetype": "text/x-python",
   "name": "python",
   "nbconvert_exporter": "python",
   "pygments_lexer": "ipython3",
   "version": "3.6.1"
  }
 },
 "nbformat": 4,
 "nbformat_minor": 2
}
